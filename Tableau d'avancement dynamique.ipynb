{
 "cells": [
  {
   "cell_type": "code",
   "execution_count": 2,
   "metadata": {},
   "outputs": [
    {
     "name": "stdout",
     "output_type": "stream",
     "text": [
      "Les paramètres sont tels que : aZn + bCu2+ = cZn2+ + dCu\n"
     ]
    },
    {
     "data": {
      "application/vnd.jupyter.widget-view+json": {
       "model_id": "6ac5947d0019473d8edf3d31883e1f39",
       "version_major": 2,
       "version_minor": 0
      },
      "text/plain": [
       "interactive(children=(FloatSlider(value=0.0, description='avancement', max=1.0), FloatSlider(value=0.0, descri…"
      ]
     },
     "metadata": {},
     "output_type": "display_data"
    }
   ],
   "source": [
    "%matplotlib inline\n",
    "from ipywidgets import interactive\n",
    "import matplotlib.pyplot as plt\n",
    "import numpy as np\n",
    "\n",
    "from pyvalem.formula import Formula\n",
    "from pyvalem.reaction import Reaction\n",
    "from IPython.core.display import display, HTML\n",
    "\n",
    "\n",
    "\n",
    "\n",
    "#pip install pyvalem\n",
    "#asn = Formula('H2NCOCH2CH(NH3+)CO2-')\n",
    "#display(HTML(asn.html))\n",
    "\n",
    "nomA = \"Zn\" \n",
    "nomB = \"Cu2+\"\n",
    "nomC = \"Zn2+\"\n",
    "nomD = \"Cu\"\n",
    "\n",
    "\n",
    "print(\"Les paramètres sont tels que : \" 'a'+nomA +\" + \"+ 'b'+nomB +\" = \"+ 'c'+nomC +\" + \"+ 'd'+nomD)\n",
    "\n",
    "\n",
    "plt.rcParams.update({'font.size': 18})\n",
    "#space\n",
    "def f(avancement,niA,niB,a,b,c,d):\n",
    "    #r = Reaction(str(a)+nomA + ' + '+str(b)+nomB + ' = ' +str(c)+nomC + ' + '+str(d)+nomD)\n",
    "    #display(HTML(r.html))\n",
    "    \n",
    "    avancementmax = min(niA/a,niB/b)\n",
    "    if avancement >avancementmax :\n",
    "        avancement = avancementmax\n",
    "        print(\"avancement maximal possible!\")\n",
    "    print(\"équation de réaction :\")\n",
    "    print (\"\\t\"+\"\\t\"+\"\\t\\t\"+str(a)+nomA +\" + \"+ str(b)+nomB +\" = \"+ str(c)+nomC +\" + \"+ str(d)+nomD )\n",
    "    print(\"état initial (mol) : \\t\\t\"+ str(round(niA,1))+\"  \"+str(round(niB,1))+\"  \"+\"0.0\"+\"  \"+\"0.0\")\n",
    "    print(\"état intermédiaire (mol) :\\t\".format(str(round(avancement,1)))+ str(round(niA-a*avancement,1))+\"  \"+str(round(niB-b*avancement,1))+\"  \"+str(round(c*avancement,1))+\"  \"+str(round(d*avancement,1)))\n",
    "\n",
    "#actualisation de la barre d'actualisation dynamique\n",
    "interactive_plot = interactive(f, avancement=(0,1,0.1),niA =(0,1,0.1),niB =(0,1,0.1),a = (1,3,1),b = (1,3,1),c = (1,3,1),d = (1,3,1) )\n",
    "output = interactive_plot.children[-1]\n",
    "output.layout.height = '350px'\n",
    "interactive_plot"
   ]
  },
  {
   "cell_type": "code",
   "execution_count": 2,
   "metadata": {},
   "outputs": [
    {
     "name": "stdout",
     "output_type": "stream",
     "text": [
      "Les paramètres sont tels que : aZn + bCu2+ = cZn2+ + dCu\n"
     ]
    },
    {
     "data": {
      "application/vnd.jupyter.widget-view+json": {
       "model_id": "22b7ebab309d4973b363a12dad3979eb",
       "version_major": 2,
       "version_minor": 0
      },
      "text/plain": [
       "interactive(children=(FloatSlider(value=0.0, description='niA', max=1.0), FloatSlider(value=0.0, description='…"
      ]
     },
     "metadata": {},
     "output_type": "display_data"
    }
   ],
   "source": [
    "%matplotlib inline\n",
    "from ipywidgets import interactive\n",
    "import matplotlib.pyplot as plt\n",
    "import numpy as np\n",
    "\n",
    "from pyvalem.formula import Formula\n",
    "from pyvalem.reaction import Reaction\n",
    "from IPython.core.display import display, HTML\n",
    "\n",
    "\n",
    "\n",
    "\n",
    "#pip install pyvalem\n",
    "#asn = Formula('H2NCOCH2CH(NH3+)CO2-')\n",
    "#display(HTML(asn.html))\n",
    "\n",
    "nomA = \"Zn\" \n",
    "nomB = \"Cu2+\"\n",
    "nomC = \"Zn2+\"\n",
    "nomD = \"Cu\"\n",
    "\n",
    "\n",
    "print(\"Les paramètres sont tels que : \" 'a'+nomA +\" + \"+ 'b'+nomB +\" = \"+ 'c'+nomC +\" + \"+ 'd'+nomD)\n",
    "\n",
    "\n",
    "plt.rcParams.update({'font.size': 18})\n",
    "\n",
    "def f(niA,niB,a,b,c,d):\n",
    "    plt.figure(figsize=(12,4.5))\n",
    "    avancementmax = min(niA/a,niB/b)\n",
    "    avancement = np.linspace(0,avancementmax,200)\n",
    "    #r = Reaction(str(a)+nomA + ' + '+str(b)+nomB + ' = ' +str(c)+nomC + ' + '+str(d)+nomD)\n",
    "    #display(HTML(r.html))\n",
    "    plt.plot(avancement,niA-a*avancement,label = nomA)\n",
    "    plt.plot(avancement,niB-b*avancement,label = nomB)\n",
    "    plt.plot(avancement,c*avancement,label = nomC)\n",
    "    plt.plot(avancement,d*avancement,label = nomD)\n",
    "    plt.ylabel(\"Quantité de matière (mol)\")\n",
    "    plt.xlabel(\"Avancement (mol)\")\n",
    "    plt.legend()\n",
    "    plt.show()\n",
    "    print(\"\\n\")\n",
    "    print(\"\\n\")\n",
    "    print(\"\\n\")\n",
    "    print(\"\\n\")\n",
    "#actualisation de la barre d'actualisation dynamique\n",
    "interactive_plot = interactive(f,niA =(0,1,0.1),niB =(0,1,0.1),a = (1,3,1),b = (1,3,1),c = (1,3,1),d = (1,3,1) )\n",
    "output = interactive_plot.children[-1]\n",
    "output.layout.height = '350px'\n",
    "interactive_plot"
   ]
  },
  {
   "cell_type": "code",
   "execution_count": null,
   "metadata": {},
   "outputs": [],
   "source": []
  }
 ],
 "metadata": {
  "kernelspec": {
   "display_name": "Python 3",
   "language": "python",
   "name": "python3"
  },
  "language_info": {
   "codemirror_mode": {
    "name": "ipython",
    "version": 3
   },
   "file_extension": ".py",
   "mimetype": "text/x-python",
   "name": "python",
   "nbconvert_exporter": "python",
   "pygments_lexer": "ipython3",
   "version": "3.8.5"
  }
 },
 "nbformat": 4,
 "nbformat_minor": 4
}
