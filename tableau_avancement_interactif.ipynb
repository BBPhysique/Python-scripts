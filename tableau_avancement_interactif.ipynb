{
 "cells": [
  {
   "cell_type": "code",
   "execution_count": 1,
   "metadata": {
    "scrolled": true
   },
   "outputs": [
    {
     "data": {
      "application/vnd.jupyter.widget-view+json": {
       "model_id": "fa76c8799df541e9a917c60a665aa59f",
       "version_major": 2,
       "version_minor": 0
      },
      "text/plain": [
       "interactive(children=(IntSlider(value=3, description='nMnO4i', max=7), IntSlider(value=3, description='nFe2i',…"
      ]
     },
     "metadata": {},
     "output_type": "display_data"
    }
   ],
   "source": [
    "import numpy as np\n",
    "%matplotlib inline\n",
    "from ipywidgets import interactive\n",
    "import matplotlib.pyplot as plt\n",
    "plt.ion()\n",
    "def f(nMnO4i,nFe2i):\n",
    "\n",
    "    Xf1 = nMnO4i \n",
    "    Xf2 = nFe2i/5\n",
    "    \n",
    "    Xf = min(Xf1,Xf2)\n",
    "    \n",
    "    nMnO4f = nMnO4i - Xf\n",
    "    nMn2f = Xf\n",
    "    \n",
    "    nFe2f = nFe2i - 5 * Xf\n",
    "    nFe3f = 5 * Xf\n",
    "    \n",
    "   #\n",
    "    \n",
    "    plt.close()\n",
    "    \n",
    "    xAxis = ['nMnO4-','nFe2+','nMn2+','nFe3+']\n",
    "    yAxisini = [nMnO4i,nFe2i,0,0]\n",
    "    yAxis = [nMnO4f,nFe2f,nMn2f,nFe3f]\n",
    "    plt.bar(xAxis,yAxisini,color = \"green\",alpha = 0.5,label = 'avant réaction')\n",
    "    plt.bar(xAxis,yAxis,color = \"blue\",alpha = 0.5,label= 'après réaction' ) \n",
    "    plt.title('Quantités de matières avant et après réaction chimique')\n",
    "    plt.xlabel('espèce chimique')\n",
    "    plt.ylabel('quantité de matière (mol)')\n",
    "    \n",
    "    plt.ylim(0, 7)\n",
    "    plt.legend()\n",
    "    plt.show()\n",
    "    \n",
    "interactive_plot = interactive(f, nMnO4i=(0, 7,1), nFe2i=(0, 7,1))\n",
    "output = interactive_plot.children[-1]\n",
    "output.layout.height = '350px'\n",
    "interactive_plot\n"
   ]
  },
  {
   "cell_type": "code",
   "execution_count": null,
   "metadata": {},
   "outputs": [],
   "source": []
  },
  {
   "cell_type": "code",
   "execution_count": null,
   "metadata": {},
   "outputs": [],
   "source": []
  }
 ],
 "metadata": {
  "kernelspec": {
   "display_name": "Python 3",
   "language": "python",
   "name": "python3"
  },
  "language_info": {
   "codemirror_mode": {
    "name": "ipython",
    "version": 3
   },
   "file_extension": ".py",
   "mimetype": "text/x-python",
   "name": "python",
   "nbconvert_exporter": "python",
   "pygments_lexer": "ipython3",
   "version": "3.8.5"
  }
 },
 "nbformat": 4,
 "nbformat_minor": 5
}
