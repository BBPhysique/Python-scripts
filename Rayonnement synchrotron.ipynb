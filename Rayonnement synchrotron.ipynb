{
 "cells": [
  {
   "cell_type": "markdown",
   "metadata": {},
   "source": [
    "# Directivité du rayonnement synchrotron"
   ]
  },
  {
   "cell_type": "code",
   "execution_count": 3,
   "metadata": {},
   "outputs": [
    {
     "data": {
      "application/vnd.jupyter.widget-view+json": {
       "model_id": "cb8726616e244eec996aeaecfd475b09",
       "version_major": 2,
       "version_minor": 0
      },
      "text/plain": [
       "interactive(children=(IntSlider(value=5, description='gamma', max=10, min=1), Output(layout=Layout(height='620…"
      ]
     },
     "metadata": {},
     "output_type": "display_data"
    }
   ],
   "source": [
    "#pour toutes questions  : brian.bernard@ens-paris-saclay.fr\n",
    "%matplotlib inline\n",
    "from ipywidgets import interactive\n",
    "import matplotlib.pyplot as plt\n",
    "import numpy as np\n",
    "import matplotlib.cm as cm\n",
    "\n",
    "plt.rcParams.update({'font.size': 18})\n",
    "\n",
    "c = 3*10**8\n",
    "\n",
    "def v(gamma):\n",
    "    \n",
    "    return(c*((gamma**2-1)/(gamma**2))**0.5)\n",
    "\n",
    "def relat(gamma,theta):\n",
    "    costhet = (np.cos(theta)+v(gamma)/c)/(1+np.cos(theta)*v(gamma)/c)\n",
    "    sinthet = (np.sin(theta))/(gamma*(1+np.cos(theta)*v(gamma)/c))\n",
    "    return(costhet,sinthet)\n",
    "\n",
    "def f(gamma):\n",
    "    \n",
    "    plt.figure(figsize=(9,9))\n",
    "    \n",
    "    \n",
    "    for ang in range(100):\n",
    "        theta = (ang/100)*2*np.pi\n",
    "        xray,yray = relat(gamma,theta)\n",
    "        plt.scatter(xray,yray,color=cm.hot(ang/100), marker = 'o')\n",
    "    \n",
    "\n",
    "    \n",
    "    #calcul et tracé de la proportion en base\n",
    "    #calcul et tracé de la proportion en acide\n",
    "    #plt.plot(x, 100/(1+10**(x-pKa)),color = 'blue', label = 'acide') \n",
    "    \n",
    "    #mise en forme du graphique\n",
    "    #plt.ylim(-R, R)\n",
    "    #plt.xlim(-0.95*R, R*1.05)\n",
    "    plt.ylabel(\"$\\\\frac{v_y}{c}$\")\n",
    "    plt.xlabel(\"$\\\\frac{v_x}{c}$\")\n",
    "    plt.title(\"Rayonnement synchrotron pour $\\\\gamma$ = \" + str(int(gamma))+ \" et $\\\\frac{v_e}{c}$ = \" + str(round(v(gamma)/c,3)))\n",
    "    \n",
    "    #plt.axvline(x=pKa, linestyle='dashed', color='black',label = 'pKa')\n",
    "    \n",
    "    plt.legend()\n",
    "    plt.show()\n",
    "             \n",
    "#actualisation de la barre d'actualisation dynamique\n",
    "interactive_plot = interactive(f, gamma=(1,10 ,1))\n",
    "output = interactive_plot.children[-1]\n",
    "output.layout.height = '620px'\n",
    "interactive_plot"
   ]
  },
  {
   "cell_type": "code",
   "execution_count": null,
   "metadata": {},
   "outputs": [],
   "source": []
  }
 ],
 "metadata": {
  "kernelspec": {
   "display_name": "Python 3",
   "language": "python",
   "name": "python3"
  },
  "language_info": {
   "codemirror_mode": {
    "name": "ipython",
    "version": 3
   },
   "file_extension": ".py",
   "mimetype": "text/x-python",
   "name": "python",
   "nbconvert_exporter": "python",
   "pygments_lexer": "ipython3",
   "version": "3.8.5"
  }
 },
 "nbformat": 4,
 "nbformat_minor": 4
}
