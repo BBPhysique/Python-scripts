{
 "cells": [
  {
   "cell_type": "markdown",
   "metadata": {},
   "source": [
    "# Déplacement d'équilibre : cas du procédé Haber-Bosch\n",
    " $$\\require{mhchem}$$ \n",
    " \n",
    " $\\ce{3H2 (g) + N2 (g) <=> 2NH3 (g)}$\n",
    " "
   ]
  },
  {
   "cell_type": "code",
   "execution_count": 1,
   "metadata": {},
   "outputs": [
    {
     "data": {
      "application/vnd.jupyter.widget-view+json": {
       "model_id": "c723e3cf026a4a46a8b574ce33904bd7",
       "version_major": 2,
       "version_minor": 0
      },
      "text/plain": [
       "interactive(children=(IntSlider(value=550, description='T', max=1000, min=100, step=50), IntSlider(value=91, d…"
      ]
     },
     "metadata": {},
     "output_type": "display_data"
    }
   ],
   "source": [
    "# par Brian BERNARD , en cas de questions me contacter à l'adresse suivante : brian.bernard@ens-paris-saclay.fr\n",
    "\n",
    "%matplotlib inline\n",
    "from ipywidgets import interactive\n",
    "import matplotlib.pyplot as plt\n",
    "import numpy as np\n",
    "from numpy.polynomial import polynomial as P\n",
    "\n",
    "verbose = False #détaille ou non le calcu\n",
    "\n",
    "def get_sub(x): \n",
    "    normal = \"ABCDEFGHIJKLMNOPQRSTUVWXYZabcdefghijklmnopqrstuvwxyz0123456789+-=()\"\n",
    "    sub_s = \"ₐ₈CDₑբGₕᵢⱼₖₗₘₙₒₚQᵣₛₜᵤᵥwₓᵧZₐ♭꜀ᑯₑբ₉ₕᵢⱼₖₗₘₙₒₚ૧ᵣₛₜᵤᵥwₓᵧ₂₀₁₂₃₄₅₆₇₈₉₊₋₌₍₎\"\n",
    "    res = x.maketrans(''.join(normal), ''.join(sub_s)) \n",
    "    return x.translate(res) \n",
    "\n",
    "\n",
    "\"\"\"\n",
    "notes préliminaires : pour cette étude de N2+3H2 = 2NH3, tous gazeux : \n",
    "Delta_r_G = R*T ln(Q/K) \n",
    "Delta_r_G = Delta_r_H - T*Delta_r_S\n",
    "ΔrH°298 = – 92,2 kJ/mole\n",
    "ΔrS°298 = – 0.189 kJ/mole\n",
    "\"\"\"\n",
    "\n",
    "def avancement(K,nH,nN,nNH,nHe,Ptot):\n",
    "    \"\"\" K = (nNH+2ksi)² ntot²/(Ptot² *(nN-ksi)*(nH-3ksi)**3) , Ptot en bar\n",
    "    On détermine alors les racines de ce polynôme constituant un avancement acceptable physiquement\"\"\"\n",
    "    ntot = nH+nN+nNH+nHe\n",
    "    A = K*(Ptot**2)#intermédiaire de calcul\n",
    "    B = ntot #intermédiaire de calcul, pas au carré car mis au carré dans polypow\n",
    "    \n",
    "    coeff = P.polyadd(P.polymul([A,-A*nN],P.polypow([-3,nH],3)),P.polymul(P.polypow([B*2,B*nNH],2),P.polypow([-2,ntot],2)))\n",
    "    #coeff = np.polynomial.polynomial.polysub(multiplypoly([-A,A*nN],powpoly([-3,nH],3)),powpoly([B*2,B*nNH],2))\n",
    "    #coeff = [-1, -3*nH*A-nN*A, -4*B+3*nH*nN*A+3*A*nH*nH,-2*B*nNH-3*A*nN*nH*nH-A*nH*nH*nH,-B*nNH*nNH+A*((nH)**3)*nN]\n",
    "    racinescmplx = np.roots(coeff).tolist()\n",
    "    racinescplx = [complex(round(k.real,8),round(k.imag,8)) for k in racinescmplx]\n",
    "    racines = [np.real(n) for n in racinescplx if np.imag(n) == 0]\n",
    "    \n",
    "    if verbose :\n",
    "        print(racinescplx)\n",
    "    \n",
    "    racinepos = [k for k in racines if (k>-nNH/2  and k< min(nH/3,nN))] #compensation erreurs flottantes, ou pas?\n",
    "    if racinepos == [] :\n",
    "        print(\"Erreur : l'équation polynomiale d'équilibre n'a pas de racines réelles acceptables\")\n",
    "        print(racinepos)\n",
    "        return(0)\n",
    "    elif len(racinepos)>1:\n",
    "        print(\"Erreur : l'équation polynomiale d'équilibre a pluss d'une racine acceptable\")\n",
    "        print(racinepos)\n",
    "        return(racinepos[0])\n",
    "    else :\n",
    "        \"\"\"if racinepos[0]> min(nH/3,nN) :\n",
    "            return(min(nH/3,nN))\"\"\"\n",
    "        return(racinepos[0])\n",
    "    \n",
    "\n",
    "def f(T,Ptot,nH2,nN2,nNH3,nHe):\n",
    "    \n",
    "        \n",
    "    Delta_r_G = -92.2+T*0.189\n",
    "    print(\"ΔrG° (T)= \",round(-92.2+T*0.189,2),\"kJ/mol\")\n",
    "    K = np.exp(-Delta_r_G*1000/(8.314*T))\n",
    "    print(\"K° (T)= \",round(K,4))\n",
    "    \n",
    "    ksi = avancement(K,nH2,nN2,nNH3,nHe,Ptot)\n",
    "    print(\"avancement = \", ksi , \" mol\")\n",
    "    volumei = ((nHe+nNH3+nN2+nH2)*8.317*T/Ptot)*(10**(3-5))\n",
    "    volumef = ((nHe+nNH3+nN2+nH2-2*ksi)*8.317*T/Ptot)*(10**(3-5))\n",
    "    \n",
    "    print( \"état initial ; état d'équilibre : \")\n",
    "    print('nH2  = ',nH2 ,\"; \",round(nH2-3*ksi,2),\" mol\" )\n",
    "    print('nN2  = ',nN2 ,\"; \",round(nN2-ksi,2) ,\" mol\" )\n",
    "    print('nNH3 = ',nNH3 ,\"; \",round(nNH3+2*ksi,2) ,\" mol\" )\n",
    "    print('V    = ',round(volumei,0),\"; \",round(volumef,0),' L' )\n",
    "    \n",
    "    \"\"\"\n",
    "    #mise en forme du graphique\n",
    "    plt.ylim(-0.05*100, 1.05*100)\n",
    "    plt.ylabel(\"Proportion (%)\")\n",
    "    plt.xlabel(\"pH\")\n",
    "    plt.legend()\n",
    "    plt.show()\"\"\"\n",
    "\n",
    "             \n",
    "#actualisation de la barre d'actualisation dynamique\n",
    "interactive_plot = interactive(f, T=(100, 1000,50),Ptot=(1, 190,9),nH2=(0, 10,1),nN2=(0, 10,1),nNH3=(0, 10,1),nHe=(0, 10,1))\n",
    "output = interactive_plot.children[-1]\n",
    "output.layout.height = '350px'\n",
    "interactive_plot\n",
    "\n",
    "\n"
   ]
  },
  {
   "cell_type": "code",
   "execution_count": 2,
   "metadata": {},
   "outputs": [
    {
     "name": "stdout",
     "output_type": "stream",
     "text": [
      "[-1.  3. -3.  1.]\n"
     ]
    }
   ],
   "source": [
    "#coeff = P.polyadd(P.polymul([A,-A*nN],P.polypow([-3,nH],3)),P.polypow([B*2,B*nNH],2))\n",
    "print(P.polypow([-1,1],3))"
   ]
  },
  {
   "cell_type": "code",
   "execution_count": 2,
   "metadata": {},
   "outputs": [
    {
     "data": {
      "application/vnd.jupyter.widget-view+json": {
       "model_id": "790e06baa29d4d76b3d9c2871c126253",
       "version_major": 2,
       "version_minor": 0
      },
      "text/plain": [
       "interactive(children=(FloatSlider(value=6.999499999999999, description='pKa1', max=12.0, min=2.0, step=0.3333)…"
      ]
     },
     "metadata": {},
     "output_type": "display_data"
    }
   ],
   "source": [
    "def fampho(pKa1,pKa2):\n",
    "    plt.figure(2)\n",
    "    #définition de l'intervalle de points de calcul\n",
    "    x = np.linspace(0, 14, num=1000)\n",
    "    \n",
    "    #calcul et tracé de la proportion en acide\n",
    "    prop_acide = 100/(1+10**(x-pKa1)+10**(2*x-pKa1-pKa2))\n",
    "    plt.plot(x, prop_acide,color = 'red',label = \"acide\") \n",
    "    #calcul et tracé de la proportion en amphotère\n",
    "    plt.plot(x, prop_acide*10**(x-pKa1),color = 'green',label = \"amphotère\") \n",
    "    #calcul et tracé de la proportion en base\n",
    "    plt.plot(x, prop_acide*10**(2*x-pKa1-pKa2),color = 'blue', label = 'base') \n",
    "    \n",
    "    #mise en forme du graphique\n",
    "    plt.ylim(-0.05*100, 1.05*100)\n",
    "    plt.ylabel(\"Proportion (%)\")\n",
    "    plt.xlabel(\"pH\")\n",
    "    plt.legend()\n",
    "    plt.show()\n",
    "             \n",
    "#actualisation de la barre d'actualisation dynamique\n",
    "interactive_plot = interactive(fampho, pKa1=(2, 12,0.3333),pKa2=(2, 12,0.3333))\n",
    "output = interactive_plot.children[-1]\n",
    "output.layout.height = '350px'\n",
    "interactive_plot"
   ]
  },
  {
   "cell_type": "code",
   "execution_count": 29,
   "metadata": {},
   "outputs": [
    {
     "data": {
      "image/png": "[encoded data removed]",
      "text/plain": [
       "<Figure size 432x288 with 1 Axes>"
      ]
     },
     "metadata": {
      "needs_background": "light"
     },
     "output_type": "display_data"
    }
   ],
   "source": [
    "f(6.33)"
   ]
  },
  {
   "cell_type": "code",
   "execution_count": 30,
   "metadata": {},
   "outputs": [
    {
     "data": {
      "image/png": "[encoded data removed]",
      "text/plain": [
       "<Figure size 432x288 with 1 Axes>"
      ]
     },
     "metadata": {
      "needs_background": "light"
     },
     "output_type": "display_data"
    }
   ],
   "source": [
    "fampho(6.33,10.33)"
   ]
  },
  {
   "cell_type": "code",
   "execution_count": null,
   "metadata": {},
   "outputs": [],
   "source": []
  }
 ],
 "metadata": {
  "kernelspec": {
   "display_name": "Python 3",
   "language": "python",
   "name": "python3"
  },
  "language_info": {
   "codemirror_mode": {
    "name": "ipython",
    "version": 3
   },
   "file_extension": ".py",
   "mimetype": "text/x-python",
   "name": "python",
   "nbconvert_exporter": "python",
   "pygments_lexer": "ipython3",
   "version": "3.8.5"
  }
 },
 "nbformat": 4,
 "nbformat_minor": 4
}
